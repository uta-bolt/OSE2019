{
 "cells": [
  {
   "cell_type": "code",
   "execution_count": 1,
   "metadata": {
    "collapsed": false
   },
   "outputs": [
    {
     "name": "stdout",
     "output_type": "stream",
     "text": [
      "0\n",
      "1\n",
      "2\n",
      "3\n",
      "4\n",
      "5\n",
      "6\n",
      "7\n",
      "8\n",
      "9\n",
      "===============================================================\n",
      " \n",
      "(' Computation of a growth model of dimension ', 1, ' finished after ', 10, ' steps')\n",
      " \n",
      "===============================================================\n",
      "===============================================================\n",
      " \n",
      " Errors are computed -- see errors.txt\n",
      " \n",
      "===============================================================\n"
     ]
    }
   ],
   "source": [
    "#======================================================================\n",
    "#\n",
    "#     This routine solves an infinite horizon growth model \n",
    "#     with dynamic programming and sparse grids\n",
    "#\n",
    "#     The model is described in Scheidegger & Bilionis (2017)\n",
    "#     https://papers.ssrn.com/sol3/papers.cfm?abstract_id=2927400\n",
    "#\n",
    "#     external libraries needed:\n",
    "#     - IPOPT (https://projects.coin-or.org/Ipopt)\n",
    "#     - PYIPOPT (https://github.com/xuy/pyipopt)\n",
    "#     - TASMANIAN (http://tasmanian.ornl.gov/)\n",
    "#\n",
    "#     Simon Scheidegger, 11/16 ; 07/17\n",
    "#======================================================================\n",
    "import pdb\n",
    "import nonlinear_solver_initial as solver     #solves opt. problems for terminal VF\n",
    "import nonlinear_solver_iterate as solviter   #solves opt. problems during VFI\n",
    "from parameters import *                      #parameters of model\n",
    "import interpolation as interpol              #interface to sparse grid library/terminal VF\n",
    "import interpolation_iter as interpol_iter    #interface to sparse grid library/iteration\n",
    "import postprocessing as post                 #computes the L2 and Linfinity error of the model\n",
    "\n",
    "import TasmanianSG                            #sparse grid library\n",
    "import numpy as np\n",
    "from matplotlib import pyplot as plt\n",
    "\n",
    "#======================================================================\n",
    "# Start with Value Function Iteration\n",
    "\n",
    "# terminal value function\n",
    "valnew=TasmanianSG.TasmanianSparseGrid()\n",
    "if (numstart==0):\n",
    "    valnew, initval, initgridpts=interpol.sparse_grid(n_agents, iDepth)\n",
    "    valnew.write(\"valnew_1.\" + str(numstart) + \".txt\") #write file to disk for restart\n",
    "\n",
    "# value function during iteration\n",
    "else:\n",
    "    valnew.read(\"valnew_1.\" + str(numstart) + \".txt\")  #write file to disk for restart\n",
    "    \n",
    "valold=TasmanianSG.TasmanianSparseGrid()\n",
    "valold=valnew\n",
    "#for i in range(numstart, numits):\n",
    "for i in range(numstart, numits):\n",
    "    print(i)\n",
    "    valnew=TasmanianSG.TasmanianSparseGrid()\n",
    "    valnew, values, gridpts=interpol_iter.sparse_grid_iter(n_agents, iDepth, valold)\n",
    "    valold=TasmanianSG.TasmanianSparseGrid()\n",
    "    valold=valnew\n",
    "    valnew.write(\"valnew_1.\" + str(i+1) + \".txt\")\n",
    "    \n",
    "#======================================================================\n",
    "print( \"===============================================================\")\n",
    "print( \" \" )\n",
    "print( \" Computation of a growth model of dimension \", n_agents ,\" finished after \", numits, \" steps\")\n",
    "print( \" \" )\n",
    "print( \"===============================================================\")\n",
    "#======================================================================\n",
    "\n",
    "# compute errors   \n",
    "avg_err=post.ls_error(n_agents, numstart, numits, No_samples)\n",
    "\n",
    "#======================================================================\n",
    "print( \"===============================================================\")\n",
    "print( \" \")\n",
    "print( \" Errors are computed -- see errors.txt\")\n",
    "print( \" \")\n",
    "print( \"===============================================================\")\n",
    "#======================================================================\n"
   ]
  },
  {
   "cell_type": "code",
   "execution_count": 2,
   "metadata": {
    "collapsed": false
   },
   "outputs": [
    {
     "name": "stdout",
     "output_type": "stream",
     "text": [
      "(9, 5)\n",
      "(9, 1)\n",
      "[[-305.42893457 -305.42893457 -305.42893457 -305.42893456 -305.42893456]\n",
      " [-305.83252258 -305.83252258 -305.83252258 -305.83252258 -305.83252255]\n",
      " [-305.32957346 -305.32957346 -305.32957346 -305.32957346 -305.32957346]\n",
      " [-305.53330826 -305.53330826 -305.53330826 -305.53330826 -305.53330826]\n",
      " [-305.36945989 -305.36945989 -305.36945989 -305.36945989 -305.36945989]\n",
      " [-305.62783652 -305.62783652 -305.62783652 -305.62783652 -305.62783651]\n",
      " [-305.47245014 -305.47245014 -305.47245013 -305.47245014 -305.47245014]\n",
      " [-305.3958078  -305.3958078  -305.3958078  -305.3958078  -305.3958078 ]\n",
      " [-305.34781062 -305.34781062 -305.34781062 -305.34781062 -305.34781062]]\n"
     ]
    }
   ],
   "source": [
    "print(values.shape)\n",
    "print(gridpts.shape)\n",
    "print(values)"
   ]
  },
  {
   "cell_type": "code",
   "execution_count": 4,
   "metadata": {
    "collapsed": false
   },
   "outputs": [
    {
     "data": {
      "image/png": "[encoded data removed]",
      "text/plain": [
       "<Figure size 432x288 with 1 Axes>"
      ]
     },
     "metadata": {},
     "output_type": "display_data"
    },
    {
     "data": {
      "image/png": "[encoded data removed]",
      "text/plain": [
       "<Figure size 432x288 with 1 Axes>"
      ]
     },
     "metadata": {},
     "output_type": "display_data"
    }
   ],
   "source": [
    "plt.figure()\n",
    "plt.scatter(gridpts[:,0],values[:,4], label=\"good shock\")\n",
    "plt.scatter(gridpts[:,0],values[:,1], label=\"bad shock\")\n",
    "plt.legend()\n",
    "plt.show()"
   ]
  },
  {
   "cell_type": "code",
   "execution_count": null,
   "metadata": {
    "collapsed": false
   },
   "outputs": [],
   "source": [
    "from matplotlib import pyplot as plt\n",
    "plt.figure()\n",
    "plt.scatter(initgridpts,initval)\n",
    "plt.show()\n",
    "print(initval)\n",
    "print(initgridpts)"
   ]
  }
 ],
 "metadata": {
  "kernelspec": {
   "display_name": "Python 2",
   "language": "python",
   "name": "python2"
  },
  "language_info": {
   "codemirror_mode": {
    "name": "ipython",
    "version": 2
   },
   "file_extension": ".py",
   "mimetype": "text/x-python",
   "name": "python",
   "nbconvert_exporter": "python",
   "pygments_lexer": "ipython2",
   "version": "2.7.12"
  }
 },
 "nbformat": 4,
 "nbformat_minor": 2
}

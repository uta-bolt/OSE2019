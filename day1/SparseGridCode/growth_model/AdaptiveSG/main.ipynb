{
 "cells": [
  {
   "cell_type": "code",
   "execution_count": 1,
   "metadata": {
    "collapsed": false
   },
   "outputs": [
    {
     "name": "stdout",
     "output_type": "stream",
     "text": [
      "===============================================================\n",
      " \n",
      "(' Computation of a growth model of dimension ', 1, ' finished after ', 10, ' steps')\n",
      " \n",
      "===============================================================\n",
      "===============================================================\n",
      " \n",
      " Errors are computed -- see errors.txt\n",
      " \n",
      "===============================================================\n"
     ]
    }
   ],
   "source": [
    "#======================================================================\n",
    "#\n",
    "#     This routine solves an infinite horizon growth model \n",
    "#     with dynamic programming and sparse grids\n",
    "#\n",
    "#     The model is described in Scheidegger & Bilionis (2017)\n",
    "#     https://papers.ssrn.com/sol3/papers.cfm?abstract_id=2927400\n",
    "#\n",
    "#     external libraries needed:\n",
    "#     - IPOPT (https://projects.coin-or.org/Ipopt)\n",
    "#     - PYIPOPT (https://github.com/xuy/pyipopt)\n",
    "#     - TASMANIAN (http://tasmanian.ornl.gov/)\n",
    "#\n",
    "#     Simon Scheidegger, 11/16 ; 07/17\n",
    "#======================================================================\n",
    "\n",
    "import nonlinear_solver_initial as solver     #solves opt. problems for terminal VF\n",
    "import nonlinear_solver_iterate as solviter   #solves opt. problems during VFI\n",
    "from parameters import *                      #parameters of model\n",
    "import interpolation as interpol              #interface to sparse grid library/terminal VF\n",
    "import interpolation_iter as interpol_iter    #interface to sparse grid library/iteration\n",
    "import postprocessing as post                 #computes the L2 and Linfinity error of the model\n",
    "\n",
    "import TasmanianSG                            #sparse grid library\n",
    "import numpy as np\n",
    "\n",
    "\n",
    "#======================================================================\n",
    "# Start with Value Function Iteration\n",
    "\n",
    "# terminal value function\n",
    "valnew=TasmanianSG.TasmanianSparseGrid()\n",
    "if (numstart==0):\n",
    "    valnew=interpol.sparse_grid(n_agents, iDepth)\n",
    "    valnew.write(\"valnew_1.\" + str(numstart) + \".txt\") #write file to disk for restart\n",
    "\n",
    "# value function during iteration\n",
    "else:\n",
    "    valnew.read(\"valnew_1.\" + str(numstart) + \".txt\")  #write file to disk for restart\n",
    "    \n",
    "valold=TasmanianSG.TasmanianSparseGrid()\n",
    "valold=valnew\n",
    "\n",
    "for i in range(numstart, numits):\n",
    "    valnew=TasmanianSG.TasmanianSparseGrid()\n",
    "    valnew=interpol_iter.sparse_grid_iter(n_agents, iDepth, valold)\n",
    "    valold=TasmanianSG.TasmanianSparseGrid()\n",
    "    valold=valnew\n",
    "    valnew.write(\"valnew_1.\" + str(i+1) + \".txt\")\n",
    "    \n",
    "#======================================================================\n",
    "print( \"===============================================================\")\n",
    "print( \" \" )\n",
    "print( \" Computation of a growth model of dimension \", n_agents ,\" finished after \", numits, \" steps\")\n",
    "print( \" \" )\n",
    "print( \"===============================================================\")\n",
    "#======================================================================\n",
    "\n",
    "# compute errors   \n",
    "avg_err=post.ls_error(n_agents, numstart, numits, No_samples)\n",
    "\n",
    "#======================================================================\n",
    "print( \"===============================================================\")\n",
    "print( \" \")\n",
    "print( \" Errors are computed -- see errors.txt\")\n",
    "print( \" \")\n",
    "print( \"===============================================================\")\n",
    "#======================================================================\n"
   ]
  }
 ],
 "metadata": {
  "kernelspec": {
   "display_name": "Python 2",
   "language": "python",
   "name": "python2"
  },
  "language_info": {
   "codemirror_mode": {
    "name": "ipython",
    "version": 2
   },
   "file_extension": ".py",
   "mimetype": "text/x-python",
   "name": "python",
   "nbconvert_exporter": "python",
   "pygments_lexer": "ipython2",
   "version": "2.7.12"
  }
 },
 "nbformat": 4,
 "nbformat_minor": 2
}

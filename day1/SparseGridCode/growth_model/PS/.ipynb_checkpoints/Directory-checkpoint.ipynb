{
 "cells": [
  {
   "cell_type": "markdown",
   "metadata": {},
   "source": [
    "ipopt_wrapper.py: This file contains the objective function\n",
    "parameters.py: This file contains the parameters\n",
    "interpolation.pt: This file runs the initial round\n",
    "interpolation_iter: This file iterates after the initial round\n",
    "econ.py: Contains economic definitions such as utility functions and output function"
   ]
  },
  {
   "cell_type": "code",
   "execution_count": null,
   "metadata": {
    "collapsed": true
   },
   "outputs": [],
   "source": [
    "Keeping track: I will change the output function"
   ]
  }
 ],
 "metadata": {
  "kernelspec": {
   "display_name": "Python 2",
   "language": "python",
   "name": "python2"
  },
  "language_info": {
   "codemirror_mode": {
    "name": "ipython",
    "version": 2
   },
   "file_extension": ".py",
   "mimetype": "text/x-python",
   "name": "python",
   "nbconvert_exporter": "python",
   "pygments_lexer": "ipython2",
   "version": "2.7.12"
  }
 },
 "nbformat": 4,
 "nbformat_minor": 2
}
